{
 "cells": [
  {
   "cell_type": "code",
   "execution_count": 13,
   "id": "accepted-specification",
   "metadata": {},
   "outputs": [
    {
     "name": "stdout",
     "output_type": "stream",
     "text": [
      "[[1 2 3]\n",
      " [4 5 6]]\n"
     ]
    }
   ],
   "source": [
    "import numpy as np\n",
    "list2 = [[1,2,3],[4,5,6]]\n",
    "array2 = np.array(list2)\n",
    "print(array2)"
   ]
  },
  {
   "cell_type": "code",
   "execution_count": 4,
   "id": "legitimate-fence",
   "metadata": {},
   "outputs": [
    {
     "data": {
      "text/plain": [
       "3.0"
      ]
     },
     "execution_count": 4,
     "metadata": {},
     "output_type": "execute_result"
    }
   ],
   "source": [
    "np.mean([1, 2, 3, 4, 5])"
   ]
  },
  {
   "cell_type": "code",
   "execution_count": 5,
   "id": "administrative-wesley",
   "metadata": {},
   "outputs": [
    {
     "data": {
      "text/plain": [
       "8"
      ]
     },
     "execution_count": 5,
     "metadata": {},
     "output_type": "execute_result"
    }
   ],
   "source": [
    "np.dtype(float).itemsize # in bytes"
   ]
  },
  {
   "cell_type": "code",
   "execution_count": 6,
   "id": "certified-polls",
   "metadata": {},
   "outputs": [
    {
     "data": {
      "text/plain": [
       "array([1, 1, 1, 1, 1, 1, 1, 1, 1, 1])"
      ]
     },
     "execution_count": 6,
     "metadata": {},
     "output_type": "execute_result"
    }
   ],
   "source": [
    "np.ones(10, dtype='int') # generates 10 integer ones"
   ]
  },
  {
   "cell_type": "code",
   "execution_count": 7,
   "id": "scenic-screw",
   "metadata": {},
   "outputs": [
    {
     "data": {
      "text/plain": [
       "array([0., 0., 0., 0., 0., 0., 0., 0., 0., 0.])"
      ]
     },
     "execution_count": 7,
     "metadata": {},
     "output_type": "execute_result"
    }
   ],
   "source": [
    "np.zeros(10)"
   ]
  },
  {
   "cell_type": "code",
   "execution_count": 8,
   "id": "guided-vietnamese",
   "metadata": {},
   "outputs": [
    {
     "data": {
      "text/plain": [
       "array([0.92966142, 0.34545763, 0.55502   , 0.06286873, 0.5570475 ,\n",
       "       0.12660064, 0.72445243, 0.4280288 , 0.65100163, 0.53891555])"
      ]
     },
     "execution_count": 8,
     "metadata": {},
     "output_type": "execute_result"
    }
   ],
   "source": [
    "np.random.random(10) # uniform on [0,1]"
   ]
  },
  {
   "cell_type": "code",
   "execution_count": 9,
   "id": "macro-investigator",
   "metadata": {},
   "outputs": [
    {
     "name": "stdout",
     "output_type": "stream",
     "text": [
      "The mean and standard devation are -0.013215 and 0.982168, respectively.\n"
     ]
    }
   ],
   "source": [
    "normal_array = np.random.randn(1000)\n",
    "print(\"The mean and standard devation are %f and %f, respectively.\" %(np.mean(normal_array), np.std(normal_array)))"
   ]
  },
  {
   "cell_type": "code",
   "execution_count": 10,
   "id": "middle-lesson",
   "metadata": {},
   "outputs": [
    {
     "name": "stdout",
     "output_type": "stream",
     "text": [
      "[[1. 0. 0.]\n",
      " [0. 1. 0.]\n",
      " [0. 0. 1.]]\n"
     ]
    }
   ],
   "source": [
    "my_identity = np.eye(3)\n",
    "print(my_identity)"
   ]
  },
  {
   "cell_type": "code",
   "execution_count": 12,
   "id": "systematic-praise",
   "metadata": {},
   "outputs": [
    {
     "name": "stdout",
     "output_type": "stream",
     "text": [
      "Elements of an array1:\n",
      " [0 1 2 3]\n",
      "Elements of an array2:\n",
      " [4 5 6 7]\n",
      "Reshaped array with 2x2 dimensions:\n",
      " [[0 1]\n",
      " [2 3]]\n",
      "Reshaped array with 2x2 dimensions:\n",
      " [[4 5]\n",
      " [6 7]]\n"
     ]
    }
   ],
   "source": [
    "import numpy\n",
    " \n",
    "arr1 = numpy.arange(4)\n",
    "print('Elements of an array1:\\n',arr1)\n",
    " \n",
    "arr2 = numpy.arange(4,8)\n",
    "print('Elements of an array2:\\n',arr2)\n",
    " \n",
    "res1 = arr1.reshape(2,2)\n",
    "print('Reshaped array with 2x2 dimensions:\\n',res1)\n",
    " \n",
    "res2 = arr2.reshape(2,2)\n",
    "print('Reshaped array with 2x2 dimensions:\\n',res2)\n",
    " \n"
   ]
  },
  {
   "cell_type": "code",
   "execution_count": 15,
   "id": "leading-conservative",
   "metadata": {},
   "outputs": [
    {
     "name": "stdout",
     "output_type": "stream",
     "text": [
      "Concatenating two strings:\n",
      " ['Praveena Sharmila']\n",
      "Capitalizing the string:  Tactlabs\n",
      "Converting to lower case:  praveena\n",
      "Converting to UPPER case:  SHARMILA\n",
      "Replacing string within a string:  Praveena and Sharmila\n"
     ]
    }
   ],
   "source": [
    "import numpy\n",
    "  \n",
    "res =  numpy.char.add(['Praveena'],[' Sharmila'])\n",
    " \n",
    "print(\"Concatenating two strings:\\n\",res)\n",
    " \n",
    "print(\"Capitalizing the string: \",numpy.char.capitalize('tactlabs'))\n",
    " \n",
    "print(\"Converting to lower case: \",numpy.char.lower('PRAVEENA'))\n",
    " \n",
    "print(\"Converting to UPPER case: \",numpy.char.upper('sharmila'))\n",
    " \n",
    "print(\"Replacing string within a string: \",numpy.char.replace ('Praveena and AA', 'AA', 'Sharmila'))\n"
   ]
  },
  {
   "cell_type": "code",
   "execution_count": 17,
   "id": "dramatic-threat",
   "metadata": {},
   "outputs": [
    {
     "name": "stdout",
     "output_type": "stream",
     "text": [
      "Median value of array: \n",
      " 25.0\n",
      "Mean value of array: \n",
      " 29.0\n",
      "Average value of array: \n",
      " 29.0\n",
      "Standard deviation value of array: \n",
      " 20.2895703913776\n"
     ]
    }
   ],
   "source": [
    "import numpy as np \n",
    "x = np.array([10,20,30,4,50,60]) \n",
    " \n",
    "med = np.median(x)\n",
    "print(\"Median value of array: \\n\",med)\n",
    " \n",
    "mean = np.mean(x)\n",
    "print(\"Mean value of array: \\n\",mean)\n",
    " \n",
    "avg = np.average(x)\n",
    "print(\"Average value of array: \\n\",avg)\n",
    " \n",
    "std = np.std(x)\n",
    "print(\"Standard deviation value of array: \\n\",std)\n"
   ]
  },
  {
   "cell_type": "code",
   "execution_count": 18,
   "id": "charitable-siemens",
   "metadata": {},
   "outputs": [
    {
     "name": "stdout",
     "output_type": "stream",
     "text": [
      "Elements of array 'x':\n",
      " [0 1 2 3]\n",
      "Elements of array 'y':\n",
      " [4 5 6 7]\n",
      "Addition of x and y:\n",
      " [ 4  6  8 10]\n",
      "Subtraction of x and y:\n",
      " [-4 -4 -4 -4]\n",
      "Multiplication of x and y:\n",
      " [ 0  5 12 21]\n"
     ]
    }
   ],
   "source": [
    "import numpy as np \n",
    "x = np.arange(4) \n",
    "print(\"Elements of array 'x':\\n\",x)\n",
    " \n",
    "y = np.arange(4,8) \n",
    "print(\"Elements of array 'y':\\n\",y)\n",
    " \n",
    "add = np.add(x,y)\n",
    "print(\"Addition of x and y:\\n\",add)\n",
    " \n",
    "subtract = np.subtract(x,y)\n",
    "print(\"Subtraction of x and y:\\n\",subtract)\n",
    " \n",
    "mul = np.multiply(x,y)\n",
    "print(\"Multiplication of x and y:\\n\",mul)"
   ]
  },
  {
   "cell_type": "code",
   "execution_count": 2,
   "id": "cordless-engineer",
   "metadata": {},
   "outputs": [
    {
     "name": "stdout",
     "output_type": "stream",
     "text": [
      "[['Amazon' 'Revenue']\n",
      " ['Prime' '90']\n",
      " ['Kindle' '80']\n",
      " ['Onlinestore' '75']\n",
      " ['Echo' '60']\n",
      " ['Alexa' '53']\n",
      " ['Webservies' '90']]\n"
     ]
    }
   ],
   "source": [
    "import numpy as np\n",
    "an_array = np.genfromtxt(\"amazon.csv\", dtype=None, encoding=None, delimiter=\",\")\n",
    "\n",
    "print(an_array)"
   ]
  },
  {
   "cell_type": "code",
   "execution_count": null,
   "id": "statutory-sustainability",
   "metadata": {},
   "outputs": [],
   "source": []
  }
 ],
 "metadata": {
  "kernelspec": {
   "display_name": "Python 3",
   "language": "python",
   "name": "python3"
  },
  "language_info": {
   "codemirror_mode": {
    "name": "ipython",
    "version": 3
   },
   "file_extension": ".py",
   "mimetype": "text/x-python",
   "name": "python",
   "nbconvert_exporter": "python",
   "pygments_lexer": "ipython3",
   "version": "3.6.13"
  }
 },
 "nbformat": 4,
 "nbformat_minor": 5
}
